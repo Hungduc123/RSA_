{
  "nbformat": 4,
  "nbformat_minor": 0,
  "metadata": {
    "colab": {
      "name": "Untitled0.ipynb",
      "provenance": [],
      "authorship_tag": "ABX9TyPgblTPtPKSnRBFlUim/+7d",
      "include_colab_link": true
    },
    "kernelspec": {
      "name": "python3",
      "display_name": "Python 3"
    },
    "language_info": {
      "name": "python"
    }
  },
  "cells": [
    {
      "cell_type": "markdown",
      "metadata": {
        "id": "view-in-github",
        "colab_type": "text"
      },
      "source": [
        "<a href=\"https://colab.research.google.com/github/Hungduc123/RSA_/blob/master/rsa.ipynb\" target=\"_parent\"><img src=\"https://colab.research.google.com/assets/colab-badge.svg\" alt=\"Open In Colab\"/></a>"
      ]
    },
    {
      "cell_type": "code",
      "metadata": {
        "colab": {
          "base_uri": "https://localhost:8080/"
        },
        "id": "l7zJX4VrpDq-",
        "outputId": "9c4ca19b-f52c-4494-d1d2-d18bc0d13141"
      },
      "source": [
        "!pip install pycryptodome\n",
        "!pip install libnum"
      ],
      "execution_count": 1,
      "outputs": [
        {
          "output_type": "stream",
          "text": [
            "Collecting pycryptodome\n",
            "\u001b[?25l  Downloading https://files.pythonhosted.org/packages/ad/16/9627ab0493894a11c68e46000dbcc82f578c8ff06bc2980dcd016aea9bd3/pycryptodome-3.10.1-cp35-abi3-manylinux2010_x86_64.whl (1.9MB)\n",
            "\u001b[K     |████████████████████████████████| 1.9MB 4.2MB/s \n",
            "\u001b[?25hInstalling collected packages: pycryptodome\n",
            "Successfully installed pycryptodome-3.10.1\n",
            "Collecting libnum\n",
            "  Downloading https://files.pythonhosted.org/packages/5f/c7/17e4c6bf91e06c6ac1fbe2100f4761248cac960e63a4cc4d63a9c53afac0/libnum-1.7.1-py3-none-any.whl\n",
            "Installing collected packages: libnum\n",
            "Successfully installed libnum-1.7.1\n"
          ],
          "name": "stdout"
        }
      ]
    },
    {
      "cell_type": "code",
      "metadata": {
        "colab": {
          "base_uri": "https://localhost:8080/"
        },
        "id": "KShXJjTspFBh",
        "outputId": "0f87ae86-f5bf-4e8b-bf35-1b4fe5b7b20a"
      },
      "source": [
        "from Crypto.Util.number import *\n",
        "from Crypto import Random\n",
        "import Crypto\n",
        "import libnum\n",
        "import sys\n",
        "\n",
        "bits=1024\n",
        "msg=\"Hello word, this is the first time for running rsa\"\n",
        "\n",
        "# if (len(sys.argv)>1):\n",
        "#         msg=str(sys.argv[1])\n",
        "# if (len(sys.argv)>2):\n",
        "#         bits=int(sys.argv[2])\n",
        "\n",
        "p = Crypto.Util.number.getPrime(bits, randfunc=Crypto.Random.get_random_bytes)\n",
        "q = Crypto.Util.number.getPrime(bits, randfunc=Crypto.Random.get_random_bytes)\n",
        "\n",
        "n = p*q\n",
        "PHI=(p-1)*(q-1)\n",
        "\n",
        "e=Crypto.Util.number.getPrime(1024, randfunc=Crypto.Random.get_random_bytes)\n",
        "d=libnum.invmod(e,PHI)\n",
        "## d=(gmpy2.invert(e, PHI))\n",
        "\n",
        "m=  bytes_to_long(msg.encode('utf-8'))\n",
        "\n",
        "c=pow(m,e, n)\n",
        "res=pow(c,d ,n)\n",
        "\n",
        "print (\"Message=%s\" % msg)\n",
        "print (\"p = %s\\n\" % p)\n",
        "print (\"q = %s\\n\" % q)\n",
        "print (\"d = %s\\n\" % d)\n",
        "print (\"e = %s\\n\" % e)\n",
        "print (\"n = %s\\n\" % n)\n",
        "print (\"cipher = %s\\n\" % c)\n",
        "print (\"decipher = %s\\n\" % long_to_bytes(res))"
      ],
      "execution_count": 6,
      "outputs": [
        {
          "output_type": "stream",
          "text": [
            "Message=Hello word, this is the first time for running rsa\n",
            "p = 128797202824549559126282209821773370039261255159450069824818614141939097497648759164542341311285321166241975471183627495791357779597590013017234360512019375512503007259685459057246463769578612786112498251134406846961307361184304163341344383241291265815643632951021534958738810263344776849922157138978462347599\n",
            "\n",
            "q = 128173207955433552581043561728417635201572322361255862336307885691027858759188516994435363397418758414255507862846937554009032374057197956559477620047806072522455240136091456314687857223456734561446016255584237529364258628838316618686265202306146114498539794996816436234659003205477842683244746367266173648781\n",
            "\n",
            "d = 14775303021664302761429178722915801238506527050113399637981835849568051467111071898407014798187271680014989811705732673327812021719581853949114629544336872813519180737078903579433961313800828508869155592759457163907299020150212949394862543030514702112368663184550057057602334619318027043223344195327234472199220091815125221276320381982188989907609082206797373301617115547953963028888971928189939664672532320738437571979948938943845106421951550965538437484615907104448491634966687560659083144573667133974965986535128742437775097743586359645635020111759818300346035822394553800357539620971865026490900104577615341240281\n",
            "\n",
            "e = 162862577037732275318741202287197627692293534901043285849914379001333559628895753382448073216731965756538459087265610673742479234528710798423461965682760784130788678338491906543070536882517351485445857275390240721260115208835639324552432376076125510785298253258338265779882449067813090991631332019428122253401\n",
            "\n",
            "n = 16508350661709144380812312365795107507306773832083457972373632734191240103871576504909776796827397478327180893173286383242731731677405063857015401356653133127268700566004101186467076138882003904663015930222754849226636300321972229661158554286007015156405176839558664688566738463223677264387488766964216823292465484306401632124583076403719913926683809122092610781661564618329663964556407379724742527617606105787368677664080940323340580003825638058334884241612465872272219503796028537063686563183584364581607540655405733395872863532255044552097115162565607914066156835022860335836120326316277320438491464866248964626819\n",
            "\n",
            "cipher = 16351468627715750320049984503407952641151150498463222166759682673686647505178516317704177754675121034520139380135560499733169697836777618280622601222753794552938227165399959737005960692866355044676214509468987500759207533637725489435367910856880664357051592604531402980646833187214073045202981997632733984441609037196017741778646110898123019589726617777935255565919739420190601563551802728396389037846345771052111591879052391142061706636369135402632310692792388734258639552387369506157126310226978445740771847029535491903868174333852561066274800824186442579744680531783319075035727674178307811278999676643159443149410\n",
            "\n",
            "decipher = b'Hello word, this is the first time for running rsa'\n",
            "\n"
          ],
          "name": "stdout"
        }
      ]
    }
  ]
}